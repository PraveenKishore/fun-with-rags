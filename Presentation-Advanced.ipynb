{
 "cells": [
  {
   "cell_type": "code",
   "execution_count": 51,
   "metadata": {},
   "outputs": [],
   "source": [
    "from langchain_openai import ChatOpenAI\n",
    "from langchain.prompts import PromptTemplate\n",
    "from langchain_text_splitters import RecursiveCharacterTextSplitter\n",
    "from langchain_community.document_loaders import PyPDFLoader\n",
    "from fastembed import TextEmbedding\n",
    "import chromadb\n",
    "from sentence_transformers import CrossEncoder\n",
    "from IPython.display import display, Markdown\n",
    "import os\n",
    "import json\n",
    "\n",
    "os.environ[\"TOKENIZERS_PARALLELISM\"] = \"false\"\n",
    "OLLAMA_HOST = 'http://localhost:5050'\n"
   ]
  },
  {
   "cell_type": "code",
   "execution_count": 18,
   "metadata": {},
   "outputs": [],
   "source": [
    "openai_api_key = os.environ['OPENAI_API_KEY']\n",
    "model = ChatOpenAI(\n",
    "  model=\"gpt-4o-mini\",\n",
    "  temperature=0,\n",
    "  seed=42,\n",
    "  api_key=openai_api_key\n",
    ")"
   ]
  },
  {
   "cell_type": "code",
   "execution_count": 21,
   "metadata": {},
   "outputs": [],
   "source": [
    "doc_loader = PyPDFLoader(\n",
    "  \"./data/docs/2023-amazon-annual-letter.pdf\",\n",
    ")\n",
    "docs = doc_loader.load()\n",
    "\n",
    "text_splitter = RecursiveCharacterTextSplitter(chunk_size=1000, chunk_overlap=100)\n",
    "doc_splits = text_splitter.split_documents(docs)\n",
    "\n",
    "text_embedding = TextEmbedding()\n",
    "embedding_values = list(text_embedding.embed([doc.page_content for doc in doc_splits]))\n",
    "\n",
    "client = chromadb.Client()\n",
    "if \"rag\" in [collection for collection in client.list_collections()]:\n",
    "  client.delete_collection(\"rag\")\n",
    "collection = client.create_collection(\"rag\")\n",
    "collection.add(\n",
    "  documents=[doc.page_content for doc in doc_splits],\n",
    "  metadatas=[doc.metadata for doc in doc_splits],\n",
    "  ids=[str(i) for i in range(len(doc_splits))],\n",
    "  embeddings=embedding_values,\n",
    ")"
   ]
  },
  {
   "cell_type": "markdown",
   "metadata": {},
   "source": [
    "## Section 6"
   ]
  },
  {
   "cell_type": "markdown",
   "metadata": {},
   "source": [
    "### Advanced Retrieval & Reranking\n",
    "\n",
    "Sometimes a single query might not capture all nuances of a user's question. For example, if the query is ambiguous or contains uncommon terminology, some relevant documents might be missed.\n",
    "\n",
    "**Approach:**  \n",
    "- Fire multiple queries (e.g., using slight query variations or rewrites).  \n",
    "- Combine the results and then use a reranker to sort them by relevance."
   ]
  },
  {
   "cell_type": "markdown",
   "metadata": {},
   "source": [
    "### Query Decomposition"
   ]
  },
  {
   "cell_type": "code",
   "execution_count": 22,
   "metadata": {},
   "outputs": [],
   "source": [
    "DECOMPOSE_QUERY_PROMPT = \"\"\"\n",
    "You are an expert financial analyst. Given the following complex financial question:\n",
    "\"{query}\"\n",
    "generate {num_variants} distinct and concise search queries that would help retrieve the most relevant information from a financial document.\n",
    "Output your answer as a JSON array of strings, no markdown.\n",
    "\"\"\"\n",
    "\n",
    "def generate_query_variants(query, num_variants=3):\n",
    "  prompt_template = PromptTemplate(\n",
    "    template=DECOMPOSE_QUERY_PROMPT,\n",
    "    input_variables=[\"query\", \"num_variants\"]\n",
    "  )\n",
    "\n",
    "  query_chain = prompt_template | model\n",
    "  try:\n",
    "    output = query_chain.invoke({\"query\": query, \"num_variants\": num_variants}).content\n",
    "    # print(output)\n",
    "    # Parse the JSON output\n",
    "    variants = json.loads(output)\n",
    "    if not isinstance(variants, list):\n",
    "      raise ValueError(\"Output is not a list.\")\n",
    "  except Exception as e:\n",
    "    print(\"Error generating query variants:\", e)\n",
    "    variants = [query]  # Fallback to the original query if needed\n",
    "  return variants"
   ]
  },
  {
   "cell_type": "code",
   "execution_count": 23,
   "metadata": {},
   "outputs": [
    {
     "data": {
      "text/plain": [
       "['Amazon 2023 annual report key financial drivers',\n",
       " 'Amazon 2023 financial performance analysis',\n",
       " 'Amazon 2023 revenue growth and profitability factors']"
      ]
     },
     "execution_count": 23,
     "metadata": {},
     "output_type": "execute_result"
    }
   ],
   "source": [
    "q = 'What are the key financial drivers in Amazon\\'s 2023 annual report?'\n",
    "query_variants = generate_query_variants(query=q, num_variants=3)\n",
    "query_variants"
   ]
  },
  {
   "cell_type": "markdown",
   "metadata": {},
   "source": [
    "### Multi Query Retrieval"
   ]
  },
  {
   "cell_type": "code",
   "execution_count": 24,
   "metadata": {},
   "outputs": [],
   "source": [
    "def multi_query_search_variants(query_variants, collection, n_results=3):\n",
    "  combined_results = {\"documents\": [], \"metadatas\": [], \"embeddings\": []}\n",
    "  for q in query_variants:\n",
    "    ret = collection.query(query_texts=[q], n_results=n_results, include=['documents', 'metadatas', 'embeddings'])\n",
    "    combined_results[\"documents\"].extend(ret['documents'][0])\n",
    "    combined_results[\"metadatas\"].extend(ret['metadatas'][0])\n",
    "    if 'embeddings' in ret and ret['embeddings']:\n",
    "      combined_results[\"embeddings\"].extend(ret['embeddings'][0])\n",
    "  return combined_results"
   ]
  },
  {
   "cell_type": "code",
   "execution_count": 25,
   "metadata": {},
   "outputs": [],
   "source": [
    "combined_results = multi_query_search_variants(query_variants, collection, n_results=3)"
   ]
  },
  {
   "cell_type": "code",
   "execution_count": 26,
   "metadata": {},
   "outputs": [
    {
     "data": {
      "text/plain": [
       "9"
      ]
     },
     "execution_count": 26,
     "metadata": {},
     "output_type": "execute_result"
    }
   ],
   "source": [
    "len(combined_results['documents'])"
   ]
  },
  {
   "cell_type": "markdown",
   "metadata": {},
   "source": [
    "### Reranking"
   ]
  },
  {
   "cell_type": "code",
   "execution_count": 27,
   "metadata": {},
   "outputs": [],
   "source": [
    "reranker = CrossEncoder(\"cross-encoder/ms-marco-MiniLM-L-6-v2\")\n",
    "\n",
    "def rerank_results_with_crossencoder(results, query, n_results = 3):\n",
    "  pairs = [(query, doc) for doc in results[\"documents\"]]\n",
    "  scores = reranker.predict(pairs)\n",
    "\n",
    "  reranked = sorted(zip(results[\"documents\"], results[\"metadatas\"], scores), key=lambda x: x[2], reverse=True)\n",
    "  top_docs, top_metadatas, top_scores = zip(*reranked[:n_results]) if reranked else ([], [], [])\n",
    "  return {\"documents\": list(top_docs), \"metadatas\": list(top_metadatas), \"scores\": list(top_scores)}"
   ]
  },
  {
   "cell_type": "code",
   "execution_count": 28,
   "metadata": {},
   "outputs": [],
   "source": [
    "reranked_results = rerank_results_with_crossencoder(combined_results, q, n_results=6)"
   ]
  },
  {
   "cell_type": "code",
   "execution_count": 29,
   "metadata": {},
   "outputs": [
    {
     "data": {
      "text/plain": [
       "('Report of Independent Registered Public Accounting Firm\\nThe Board of Directors and Shareholders\\nAmazon.com, Inc.\\nOpinion on the Financial Statements\\nWe have audited the accompanying consolidated balance sheets of Amazon.com, Inc. (the Company) as of December 31, \\n2023 and 2022, the related consolidated statements of operations, comprehensive income (loss), stockholders’ equity, and cash \\nflows for each of the three years in the period ended December 31, 2023, and the related notes (collectively referred to as the \\n“consolidated financial statements”). In our opinion, the consolidated financial statements present fairly, in all material respects, \\nthe financial position of the Company at December 31, 2023 and 2022, and the results of its operations and its cash flows for \\neach of the three years in the period ended December 31, 2023, in conformity with U.S. generally accepted accounting \\nprinciples.',\n",
       " 1.1110415)"
      ]
     },
     "execution_count": 29,
     "metadata": {},
     "output_type": "execute_result"
    }
   ],
   "source": [
    "reranked_results['documents'][0], reranked_results['scores'][0]"
   ]
  },
  {
   "cell_type": "code",
   "execution_count": 35,
   "metadata": {},
   "outputs": [],
   "source": [
    "prompt = PromptTemplate(\n",
    "  template=\"\"\"You are a finacial assistant for question-answering tasks.\n",
    "    Use the following documents to answer the question.\n",
    "    If you don't know the answer, just say that you don't know.\n",
    "    Keep the answer concise:\n",
    "    Question: {question}\n",
    "    Documents: {documents}\n",
    "    Answer:\n",
    "    \"\"\",\n",
    "  input_variables=[\"question\", \"documents\"],\n",
    ")\n",
    "\n",
    "rag_chain = prompt | model"
   ]
  },
  {
   "cell_type": "markdown",
   "metadata": {},
   "source": [
    "### Let's test the new system"
   ]
  },
  {
   "cell_type": "code",
   "execution_count": 36,
   "metadata": {},
   "outputs": [],
   "source": [
    "test_questions = [\n",
    "\"\"\"Analyze Amazon's 2023 financial performance by assessing how the growth in its AWS cloud \n",
    "services and e-commerce operations contributed to overall revenue, and identify the specific cost-cutting \n",
    "measures implemented to counteract rising raw material costs and global supply chain disruptions.\n",
    "\"\"\",\n",
    "\"\"\"\n",
    "Evaluate Amazon's 2023 performance by quantifying the impact of its AWS infrastructure investments \n",
    "and e-commerce expansion on revenue growth, while also detailing the strategic cost reductions in logistics \n",
    "and supply chain operations to offset global economic headwinds.\n",
    "\"\"\",\n",
    "\"\"\"\n",
    "Analyze the drivers behind Amazon's 2023 financial results by examining how increased spending in cloud services \n",
    "and digital advertising contributed to overall revenue, and identify the specific operational efficiencies \n",
    "implemented to reduce overhead costs amidst market volatility.\n",
    "\"\"\",\n",
    "\"\"\"\n",
    "Assess Amazon's 2023 annual report by breaking down the revenue contributions from its diversified business \n",
    "units—such as AWS, e-commerce, and subscription services—and by pinpointing the targeted cost-containment \n",
    "measures executed to combat rising raw material and transportation expenses.\n",
    "\"\"\"\n",
    "]"
   ]
  },
  {
   "cell_type": "code",
   "execution_count": 37,
   "metadata": {},
   "outputs": [
    {
     "name": "stdout",
     "output_type": "stream",
     "text": [
      "\n",
      "Evaluate Amazon's 2023 performance by quantifying the impact of its AWS infrastructure investments \n",
      "and e-commerce expansion on revenue growth, while also detailing the strategic cost reductions in logistics \n",
      "and supply chain operations to offset global economic headwinds.\n",
      "\n"
     ]
    }
   ],
   "source": [
    "test_question = test_questions[1]\n",
    "print(test_question)"
   ]
  },
  {
   "cell_type": "markdown",
   "metadata": {},
   "source": [
    "#### Check Response from Basic RAG"
   ]
  },
  {
   "cell_type": "code",
   "execution_count": 48,
   "metadata": {},
   "outputs": [
    {
     "data": {
      "text/markdown": [
       "The key financial drivers in Amazon's 2023 annual report include:\n",
       "\n",
       "1. **Revenue Growth**: Total revenue increased by 12% year-over-year, from $514 billion to $575 billion, with notable growth in North America (12%), International (11%), and AWS (13%).\n",
       "\n",
       "2. **Operating Income Improvement**: Operating income rose significantly by 201% year-over-year, from $12.2 billion to $36.9 billion, with an improved operating margin from 2.4% to 6.4%.\n",
       "\n",
       "3. **Free Cash Flow**: Free Cash Flow improved dramatically from -$12.8 billion in 2022 to $35.5 billion in 2023.\n",
       "\n",
       "4. **Fulfillment and Delivery Efficiency**: Enhanced delivery speeds and fulfillment network efficiencies contributed to increased sales and customer satisfaction.\n",
       "\n",
       "5. **AWS Growth**: AWS sales growth was driven by increased customer usage, despite some pricing changes.\n",
       "\n",
       "6. **Cost Management**: While fulfillment and technology costs increased, they were partially offset by efficiencies and increased sales."
      ],
      "text/plain": [
       "<IPython.core.display.Markdown object>"
      ]
     },
     "metadata": {},
     "output_type": "display_data"
    }
   ],
   "source": [
    "basic_rag_results = multi_query_search_variants([test_question], collection, n_results=6)\n",
    "response_basic = rag_chain.invoke({\"question\": q, \"documents\": basic_rag_results['documents']})\n",
    "display(Markdown(response_basic.content))"
   ]
  },
  {
   "cell_type": "markdown",
   "metadata": {},
   "source": [
    "#### Check Response from Advanced RAG"
   ]
  },
  {
   "cell_type": "code",
   "execution_count": 49,
   "metadata": {},
   "outputs": [
    {
     "data": {
      "text/markdown": [
       "In 2023, Amazon's total revenue grew 12% year-over-year, increasing from $514 billion to $575 billion. AWS revenue specifically rose by 13%, from $80 billion to $91 billion, reflecting increased customer usage despite some pricing changes. The North America segment also saw a 12% revenue increase, while International revenue grew by 11%.\n",
       "\n",
       "Strategically, Amazon implemented cost reductions in logistics and supply chain operations, which contributed to a significant improvement in operating income, rising 201% from $12.2 billion in 2022 to $36.9 billion in 2023. This was achieved despite increased fulfillment and shipping costs, indicating effective management of operational expenses to counter global economic challenges. Free Cash Flow also improved dramatically, from -$12.8 billion in 2022 to $35.5 billion in 2023."
      ],
      "text/plain": [
       "<IPython.core.display.Markdown object>"
      ]
     },
     "metadata": {},
     "output_type": "display_data"
    }
   ],
   "source": [
    "query_variants = generate_query_variants(query=test_question, num_variants=6)\n",
    "combined_results = multi_query_search_variants(query_variants, collection, n_results=3)\n",
    "reranked_results = rerank_results_with_crossencoder(combined_results, test_question, n_results=6)\n",
    "response_advanced = rag_chain.invoke({\"question\": test_question, \"documents\": reranked_results})\n",
    "display(Markdown(response_advanced.content))"
   ]
  },
  {
   "cell_type": "code",
   "execution_count": null,
   "metadata": {},
   "outputs": [],
   "source": []
  },
  {
   "cell_type": "markdown",
   "metadata": {},
   "source": []
  }
 ],
 "metadata": {
  "kernelspec": {
   "display_name": ".venv",
   "language": "python",
   "name": "python3"
  },
  "language_info": {
   "codemirror_mode": {
    "name": "ipython",
    "version": 3
   },
   "file_extension": ".py",
   "mimetype": "text/x-python",
   "name": "python",
   "nbconvert_exporter": "python",
   "pygments_lexer": "ipython3",
   "version": "3.11.11"
  }
 },
 "nbformat": 4,
 "nbformat_minor": 2
}
